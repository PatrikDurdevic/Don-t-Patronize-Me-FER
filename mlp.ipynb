{
 "cells": [
  {
   "cell_type": "code",
   "execution_count": 1,
   "id": "ee38422e",
   "metadata": {},
   "outputs": [
    {
     "ename": "ModuleNotFoundError",
     "evalue": "No module named 'torch'",
     "output_type": "error",
     "traceback": [
      "\u001b[1;31m---------------------------------------------------------------------------\u001b[0m",
      "\u001b[1;31mModuleNotFoundError\u001b[0m                       Traceback (most recent call last)",
      "\u001b[1;32m~\\AppData\\Local\\Temp/ipykernel_28540/4288258480.py\u001b[0m in \u001b[0;36m<module>\u001b[1;34m\u001b[0m\n\u001b[0;32m      4\u001b[0m \u001b[1;32mimport\u001b[0m \u001b[0mos\u001b[0m\u001b[1;33m\u001b[0m\u001b[1;33m\u001b[0m\u001b[0m\n\u001b[0;32m      5\u001b[0m \u001b[1;32mfrom\u001b[0m \u001b[0murllib\u001b[0m \u001b[1;32mimport\u001b[0m \u001b[0mrequest\u001b[0m\u001b[1;33m\u001b[0m\u001b[1;33m\u001b[0m\u001b[0m\n\u001b[1;32m----> 6\u001b[1;33m \u001b[1;32mimport\u001b[0m \u001b[0mtorch\u001b[0m\u001b[1;33m\u001b[0m\u001b[1;33m\u001b[0m\u001b[0m\n\u001b[0m\u001b[0;32m      7\u001b[0m \u001b[1;33m\u001b[0m\u001b[0m\n\u001b[0;32m      8\u001b[0m \u001b[0mmodule_url\u001b[0m \u001b[1;33m=\u001b[0m \u001b[1;34mf\"https://raw.githubusercontent.com/Perez-AlmendrosC/dontpatronizeme/master/semeval-2022/dont_patronize_me.py\"\u001b[0m\u001b[1;33m\u001b[0m\u001b[1;33m\u001b[0m\u001b[0m\n",
      "\u001b[1;31mModuleNotFoundError\u001b[0m: No module named 'torch'"
     ]
    }
   ],
   "source": [
    "import pandas as pd\n",
    "import numpy as np\n",
    "import random\n",
    "import os\n",
    "from urllib import request\n",
    "\n",
    "\n",
    "module_url = f\"https://raw.githubusercontent.com/Perez-AlmendrosC/dontpatronizeme/master/semeval-2022/dont_patronize_me.py\"\n",
    "module_name = module_url.split('/')[-1]\n",
    "print(f'Fetching {module_url}')\n",
    "#with open(\"file_1.txt\") as f1, open(\"file_2.txt\") as f2\n",
    "with request.urlopen(module_url) as f, open(module_name,'w') as outf:\n",
    "  a = f.read()\n",
    "  outf.write(a.decode('utf-8'))\n",
    "import spacy\n",
    "from dont_patronize_me import DontPatronizeMe\n",
    "nlp = spacy.load(\n",
    "    \"en_core_web_lg\"\n",
    ")"
   ]
  },
  {
   "cell_type": "code",
   "execution_count": 2,
   "id": "b92e71ce",
   "metadata": {},
   "outputs": [],
   "source": [
    "from sklearn import model_selection, naive_bayes, svm\n",
    "from sklearn.metrics import accuracy_score\n",
    "from sklearn.metrics import recall_score\n",
    "from sklearn.metrics import precision_score\n",
    "from sklearn.metrics import f1_score\n",
    "from sklearn.metrics import classification_report\n",
    "from sklearn.model_selection import StratifiedShuffleSplit"
   ]
  },
  {
   "cell_type": "code",
   "execution_count": 3,
   "id": "33480a89",
   "metadata": {},
   "outputs": [
    {
     "data": {
      "text/html": [
       "<div>\n",
       "<style scoped>\n",
       "    .dataframe tbody tr th:only-of-type {\n",
       "        vertical-align: middle;\n",
       "    }\n",
       "\n",
       "    .dataframe tbody tr th {\n",
       "        vertical-align: top;\n",
       "    }\n",
       "\n",
       "    .dataframe thead th {\n",
       "        text-align: right;\n",
       "    }\n",
       "</style>\n",
       "<table border=\"1\" class=\"dataframe\">\n",
       "  <thead>\n",
       "    <tr style=\"text-align: right;\">\n",
       "      <th></th>\n",
       "      <th>par_id</th>\n",
       "      <th>art_id</th>\n",
       "      <th>keyword</th>\n",
       "      <th>country</th>\n",
       "      <th>text</th>\n",
       "      <th>label</th>\n",
       "      <th>orig_label</th>\n",
       "    </tr>\n",
       "  </thead>\n",
       "  <tbody>\n",
       "    <tr>\n",
       "      <th>0</th>\n",
       "      <td>1</td>\n",
       "      <td>@@24942188</td>\n",
       "      <td>hopeless</td>\n",
       "      <td>ph</td>\n",
       "      <td>we 're living in times of absolute insanity , ...</td>\n",
       "      <td>0</td>\n",
       "      <td>0</td>\n",
       "    </tr>\n",
       "    <tr>\n",
       "      <th>1</th>\n",
       "      <td>2</td>\n",
       "      <td>@@21968160</td>\n",
       "      <td>migrant</td>\n",
       "      <td>gh</td>\n",
       "      <td>in libya today , there are countless number of...</td>\n",
       "      <td>0</td>\n",
       "      <td>0</td>\n",
       "    </tr>\n",
       "    <tr>\n",
       "      <th>2</th>\n",
       "      <td>3</td>\n",
       "      <td>@@16584954</td>\n",
       "      <td>immigrant</td>\n",
       "      <td>ie</td>\n",
       "      <td>\"white house press secretary sean spicer said ...</td>\n",
       "      <td>0</td>\n",
       "      <td>0</td>\n",
       "    </tr>\n",
       "    <tr>\n",
       "      <th>3</th>\n",
       "      <td>4</td>\n",
       "      <td>@@7811231</td>\n",
       "      <td>disabled</td>\n",
       "      <td>nz</td>\n",
       "      <td>council customers only signs would be displaye...</td>\n",
       "      <td>0</td>\n",
       "      <td>0</td>\n",
       "    </tr>\n",
       "    <tr>\n",
       "      <th>4</th>\n",
       "      <td>5</td>\n",
       "      <td>@@1494111</td>\n",
       "      <td>refugee</td>\n",
       "      <td>ca</td>\n",
       "      <td>\"\"\" just like we received migrants fleeing el ...</td>\n",
       "      <td>0</td>\n",
       "      <td>0</td>\n",
       "    </tr>\n",
       "  </tbody>\n",
       "</table>\n",
       "</div>"
      ],
      "text/plain": [
       "  par_id      art_id    keyword country  \\\n",
       "0      1  @@24942188   hopeless      ph   \n",
       "1      2  @@21968160    migrant      gh   \n",
       "2      3  @@16584954  immigrant      ie   \n",
       "3      4   @@7811231   disabled      nz   \n",
       "4      5   @@1494111    refugee      ca   \n",
       "\n",
       "                                                text  label orig_label  \n",
       "0  we 're living in times of absolute insanity , ...      0          0  \n",
       "1  in libya today , there are countless number of...      0          0  \n",
       "2  \"white house press secretary sean spicer said ...      0          0  \n",
       "3  council customers only signs would be displaye...      0          0  \n",
       "4  \"\"\" just like we received migrants fleeing el ...      0          0  "
      ]
     },
     "execution_count": 3,
     "metadata": {},
     "output_type": "execute_result"
    }
   ],
   "source": [
    "dpm = DontPatronizeMe(\"./dontpatronizeme_v1.4\", \"dontpatronizeme_pcl.tsv\")\n",
    "dpm.load_task1()\n",
    "df = dpm.train_task1_df\n",
    "df.head()"
   ]
  },
  {
   "cell_type": "code",
   "execution_count": 4,
   "id": "38d5af88",
   "metadata": {},
   "outputs": [],
   "source": [
    "from gensim.models import KeyedVectors\n",
    "# Load vectors directly from the file\n",
    "model = KeyedVectors.load_word2vec_format('GoogleNews-vectors-negative300.bin.gz', binary=True)"
   ]
  },
  {
   "cell_type": "code",
   "execution_count": 5,
   "id": "ae648c5c",
   "metadata": {},
   "outputs": [],
   "source": [
    "def vectorize(text):\n",
    "    doc = nlp(text)\n",
    "    words = [token.text for token in doc if not token.is_stop]\n",
    "    vector_list = [model[word] for word in words if word in model.vocab]\n",
    "    return np.average( np.array(vector_list), axis = 0) "
   ]
  },
  {
   "cell_type": "code",
   "execution_count": null,
   "id": "15d33a4f",
   "metadata": {},
   "outputs": [],
   "source": [
    "df[\"vec\"] = df[\"text\"].apply(vectorize)\n",
    "df.head()"
   ]
  },
  {
   "cell_type": "code",
   "execution_count": 7,
   "id": "46013e2e",
   "metadata": {},
   "outputs": [
    {
     "name": "stdout",
     "output_type": "stream",
     "text": [
      "10469\n",
      "10468\n"
     ]
    }
   ],
   "source": [
    "print(len(df))\n",
    "df = df.dropna()\n",
    "print(len(df))"
   ]
  },
  {
   "cell_type": "code",
   "execution_count": 8,
   "id": "408f4873",
   "metadata": {},
   "outputs": [
    {
     "name": "stderr",
     "output_type": "stream",
     "text": [
      "C:\\Users\\Lea\\anaconda3\\envs\\projektR\\lib\\site-packages\\sklearn\\neural_network\\_multilayer_perceptron.py:617: ConvergenceWarning: Stochastic Optimizer: Maximum iterations (200) reached and the optimization hasn't converged yet.\n",
      "  % self.max_iter, ConvergenceWarning)\n"
     ]
    },
    {
     "name": "stdout",
     "output_type": "stream",
     "text": [
      "activation_fns = \n",
      " logistic\n",
      "architecture = \n",
      " (32, 16)\n",
      "              precision    recall  f1-score   support\n",
      "\n",
      "           0       0.93      0.98      0.95      1895\n",
      "           1       0.54      0.25      0.34       199\n",
      "\n",
      "    accuracy                           0.91      2094\n",
      "   macro avg       0.73      0.61      0.65      2094\n",
      "weighted avg       0.89      0.91      0.89      2094\n",
      "\n"
     ]
    },
    {
     "name": "stderr",
     "output_type": "stream",
     "text": [
      "C:\\Users\\Lea\\anaconda3\\envs\\projektR\\lib\\site-packages\\sklearn\\neural_network\\_multilayer_perceptron.py:617: ConvergenceWarning: Stochastic Optimizer: Maximum iterations (200) reached and the optimization hasn't converged yet.\n",
      "  % self.max_iter, ConvergenceWarning)\n"
     ]
    },
    {
     "name": "stdout",
     "output_type": "stream",
     "text": [
      "activation_fns = \n",
      " logistic\n",
      "architecture = \n",
      " (64, 8)\n",
      "              precision    recall  f1-score   support\n",
      "\n",
      "           0       0.92      0.98      0.95      1895\n",
      "           1       0.52      0.22      0.31       199\n",
      "\n",
      "    accuracy                           0.91      2094\n",
      "   macro avg       0.72      0.60      0.63      2094\n",
      "weighted avg       0.88      0.91      0.89      2094\n",
      "\n"
     ]
    },
    {
     "name": "stderr",
     "output_type": "stream",
     "text": [
      "C:\\Users\\Lea\\anaconda3\\envs\\projektR\\lib\\site-packages\\sklearn\\neural_network\\_multilayer_perceptron.py:617: ConvergenceWarning: Stochastic Optimizer: Maximum iterations (200) reached and the optimization hasn't converged yet.\n",
      "  % self.max_iter, ConvergenceWarning)\n"
     ]
    },
    {
     "name": "stdout",
     "output_type": "stream",
     "text": [
      "activation_fns = \n",
      " logistic\n",
      "architecture = \n",
      " (64, 32)\n",
      "              precision    recall  f1-score   support\n",
      "\n",
      "           0       0.92      0.98      0.95      1895\n",
      "           1       0.53      0.24      0.33       199\n",
      "\n",
      "    accuracy                           0.91      2094\n",
      "   macro avg       0.73      0.61      0.64      2094\n",
      "weighted avg       0.89      0.91      0.89      2094\n",
      "\n"
     ]
    },
    {
     "name": "stderr",
     "output_type": "stream",
     "text": [
      "C:\\Users\\Lea\\anaconda3\\envs\\projektR\\lib\\site-packages\\sklearn\\neural_network\\_multilayer_perceptron.py:617: ConvergenceWarning: Stochastic Optimizer: Maximum iterations (200) reached and the optimization hasn't converged yet.\n",
      "  % self.max_iter, ConvergenceWarning)\n"
     ]
    },
    {
     "name": "stdout",
     "output_type": "stream",
     "text": [
      "activation_fns = \n",
      " logistic\n",
      "architecture = \n",
      " (16, 8)\n",
      "              precision    recall  f1-score   support\n",
      "\n",
      "           0       0.93      0.98      0.95      1895\n",
      "           1       0.60      0.26      0.36       199\n",
      "\n",
      "    accuracy                           0.91      2094\n",
      "   macro avg       0.76      0.62      0.66      2094\n",
      "weighted avg       0.90      0.91      0.90      2094\n",
      "\n"
     ]
    },
    {
     "name": "stderr",
     "output_type": "stream",
     "text": [
      "C:\\Users\\Lea\\anaconda3\\envs\\projektR\\lib\\site-packages\\sklearn\\neural_network\\_multilayer_perceptron.py:617: ConvergenceWarning: Stochastic Optimizer: Maximum iterations (200) reached and the optimization hasn't converged yet.\n",
      "  % self.max_iter, ConvergenceWarning)\n"
     ]
    },
    {
     "name": "stdout",
     "output_type": "stream",
     "text": [
      "activation_fns = \n",
      " logistic\n",
      "architecture = \n",
      " (7, 7)\n",
      "              precision    recall  f1-score   support\n",
      "\n",
      "           0       0.92      0.99      0.95      1895\n",
      "           1       0.65      0.20      0.31       199\n",
      "\n",
      "    accuracy                           0.91      2094\n",
      "   macro avg       0.78      0.59      0.63      2094\n",
      "weighted avg       0.90      0.91      0.89      2094\n",
      "\n",
      "activation_fns = \n",
      " relu\n",
      "architecture = \n",
      " (32, 16)\n",
      "              precision    recall  f1-score   support\n",
      "\n",
      "           0       0.93      0.94      0.93      1895\n",
      "           1       0.34      0.32      0.33       199\n",
      "\n",
      "    accuracy                           0.88      2094\n",
      "   macro avg       0.63      0.63      0.63      2094\n",
      "weighted avg       0.87      0.88      0.87      2094\n",
      "\n",
      "activation_fns = \n",
      " relu\n",
      "architecture = \n",
      " (64, 8)\n",
      "              precision    recall  f1-score   support\n",
      "\n",
      "           0       0.93      0.95      0.94      1895\n",
      "           1       0.36      0.29      0.32       199\n",
      "\n",
      "    accuracy                           0.88      2094\n",
      "   macro avg       0.64      0.62      0.63      2094\n",
      "weighted avg       0.87      0.88      0.88      2094\n",
      "\n",
      "activation_fns = \n",
      " relu\n",
      "architecture = \n",
      " (64, 32)\n",
      "              precision    recall  f1-score   support\n",
      "\n",
      "           0       0.93      0.95      0.94      1895\n",
      "           1       0.39      0.29      0.33       199\n",
      "\n",
      "    accuracy                           0.89      2094\n",
      "   macro avg       0.66      0.62      0.64      2094\n",
      "weighted avg       0.88      0.89      0.88      2094\n",
      "\n"
     ]
    },
    {
     "name": "stderr",
     "output_type": "stream",
     "text": [
      "C:\\Users\\Lea\\anaconda3\\envs\\projektR\\lib\\site-packages\\sklearn\\neural_network\\_multilayer_perceptron.py:617: ConvergenceWarning: Stochastic Optimizer: Maximum iterations (200) reached and the optimization hasn't converged yet.\n",
      "  % self.max_iter, ConvergenceWarning)\n"
     ]
    },
    {
     "name": "stdout",
     "output_type": "stream",
     "text": [
      "activation_fns = \n",
      " relu\n",
      "architecture = \n",
      " (16, 8)\n",
      "              precision    recall  f1-score   support\n",
      "\n",
      "           0       0.93      0.95      0.94      1895\n",
      "           1       0.38      0.32      0.34       199\n",
      "\n",
      "    accuracy                           0.89      2094\n",
      "   macro avg       0.65      0.63      0.64      2094\n",
      "weighted avg       0.88      0.89      0.88      2094\n",
      "\n",
      "activation_fns = \n",
      " relu\n",
      "architecture = \n",
      " (7, 7)\n",
      "              precision    recall  f1-score   support\n",
      "\n",
      "           0       0.93      0.96      0.95      1895\n",
      "           1       0.49      0.34      0.40       199\n",
      "\n",
      "    accuracy                           0.90      2094\n",
      "   macro avg       0.71      0.65      0.67      2094\n",
      "weighted avg       0.89      0.90      0.90      2094\n",
      "\n"
     ]
    },
    {
     "name": "stderr",
     "output_type": "stream",
     "text": [
      "C:\\Users\\Lea\\anaconda3\\envs\\projektR\\lib\\site-packages\\sklearn\\neural_network\\_multilayer_perceptron.py:617: ConvergenceWarning: Stochastic Optimizer: Maximum iterations (200) reached and the optimization hasn't converged yet.\n",
      "  % self.max_iter, ConvergenceWarning)\n"
     ]
    }
   ],
   "source": [
    "from sklearn.neural_network import MLPClassifier\n",
    "\n",
    "sss = StratifiedShuffleSplit(n_splits=1, test_size=0.2, random_state=111)\n",
    "\n",
    "for train_index, test_index in sss.split(df['vec'], df['label']):\n",
    "    X_train, X_test = df.vec.iloc[train_index], df.vec.iloc[test_index]\n",
    "    y_train, y_test = df.label.iloc[train_index], df.label.iloc[test_index]\n",
    "    \n",
    "    X_train = np.stack([a.reshape(300,) for a in X_train.values], axis = 0)\n",
    "    X_test = np.stack([a.reshape(300,) for a in X_test.values], axis = 0)\n",
    "    \n",
    "\n",
    "hidd_layers_sizes = [(32, 16), (64,8), (64, 32), (16, 8), (7, 7)]\n",
    "activation_fns = [\"logistic\", \"relu\"]\n",
    "\n",
    "for activation_fn in activation_fns:\n",
    "    for hidd_layer_sizes in hidd_layers_sizes:\n",
    "        model = MLPClassifier(hidd_layer_sizes, activation_fn, batch_size=256, random_state=42)\n",
    "        model.fit(X_train, y_train)\n",
    "        \n",
    "        y_pred = model.predict(X_test)\n",
    "        print(\"activation_fns = \\n\", activation_fn)\n",
    "        print(\"architecture = \\n\", hidd_layer_sizes)\n",
    "        print(classification_report(y_test, y_pred))\n",
    "\n",
    "  "
   ]
  },
  {
   "cell_type": "code",
   "execution_count": null,
   "id": "edafec90",
   "metadata": {},
   "outputs": [],
   "source": []
  }
 ],
 "metadata": {
  "kernelspec": {
   "display_name": "projektR",
   "language": "python",
   "name": "projektr"
  },
  "language_info": {
   "codemirror_mode": {
    "name": "ipython",
    "version": 3
   },
   "file_extension": ".py",
   "mimetype": "text/x-python",
   "name": "python",
   "nbconvert_exporter": "python",
   "pygments_lexer": "ipython3",
   "version": "3.9.6"
  }
 },
 "nbformat": 4,
 "nbformat_minor": 5
}
