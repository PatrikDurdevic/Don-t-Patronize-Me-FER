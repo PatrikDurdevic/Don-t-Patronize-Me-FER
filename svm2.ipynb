{
 "cells": [
  {
   "cell_type": "code",
   "execution_count": 4,
   "id": "df839d58",
   "metadata": {},
   "outputs": [],
   "source": [
    "import pandas as pd\n",
    "import numpy as np\n",
    "import spacy\n",
    "from dont_patronize_me import DontPatronizeMe\n",
    "nlp = spacy.load(\n",
    "    \"en_core_web_lg\"\n",
    ")"
   ]
  },
  {
   "cell_type": "code",
   "execution_count": 5,
   "id": "8617ffe3",
   "metadata": {},
   "outputs": [],
   "source": [
    "from sklearn import model_selection, naive_bayes, svm\n",
    "from sklearn.metrics import accuracy_score\n",
    "from sklearn.metrics import recall_score\n",
    "from sklearn.metrics import precision_score\n",
    "from sklearn.metrics import f1_score\n",
    "from sklearn.metrics import classification_report\n",
    "from sklearn.model_selection import StratifiedShuffleSplit"
   ]
  },
  {
   "cell_type": "code",
   "execution_count": 6,
   "id": "91df8f40",
   "metadata": {},
   "outputs": [
    {
     "data": {
      "text/html": [
       "<div>\n",
       "<style scoped>\n",
       "    .dataframe tbody tr th:only-of-type {\n",
       "        vertical-align: middle;\n",
       "    }\n",
       "\n",
       "    .dataframe tbody tr th {\n",
       "        vertical-align: top;\n",
       "    }\n",
       "\n",
       "    .dataframe thead th {\n",
       "        text-align: right;\n",
       "    }\n",
       "</style>\n",
       "<table border=\"1\" class=\"dataframe\">\n",
       "  <thead>\n",
       "    <tr style=\"text-align: right;\">\n",
       "      <th></th>\n",
       "      <th>ids</th>\n",
       "      <th>text</th>\n",
       "      <th>labels</th>\n",
       "    </tr>\n",
       "  </thead>\n",
       "  <tbody>\n",
       "    <tr>\n",
       "      <th>0</th>\n",
       "      <td>@@23953477</td>\n",
       "      <td>the ones in need of constant medical care are ...</td>\n",
       "      <td>0</td>\n",
       "    </tr>\n",
       "    <tr>\n",
       "      <th>1</th>\n",
       "      <td>@@4703096</td>\n",
       "      <td>nbc and spanish-language univision both declin...</td>\n",
       "      <td>0</td>\n",
       "    </tr>\n",
       "    <tr>\n",
       "      <th>2</th>\n",
       "      <td>@@25567226</td>\n",
       "      <td>a second t-home project is being launched in t...</td>\n",
       "      <td>0</td>\n",
       "    </tr>\n",
       "    <tr>\n",
       "      <th>3</th>\n",
       "      <td>@@1824078</td>\n",
       "      <td>camfed would like to see this trend reversed ....</td>\n",
       "      <td>1</td>\n",
       "    </tr>\n",
       "    <tr>\n",
       "      <th>4</th>\n",
       "      <td>@@1921089</td>\n",
       "      <td>kagunga village was reported to lack necessary...</td>\n",
       "      <td>0</td>\n",
       "    </tr>\n",
       "  </tbody>\n",
       "</table>\n",
       "</div>"
      ],
      "text/plain": [
       "          ids                                               text  labels\n",
       "0  @@23953477  the ones in need of constant medical care are ...       0\n",
       "1   @@4703096  nbc and spanish-language univision both declin...       0\n",
       "2  @@25567226  a second t-home project is being launched in t...       0\n",
       "3   @@1824078  camfed would like to see this trend reversed ....       1\n",
       "4   @@1921089  kagunga village was reported to lack necessary...       0"
      ]
     },
     "execution_count": 6,
     "metadata": {},
     "output_type": "execute_result"
    }
   ],
   "source": [
    "d = DontPatronizeMe(\"data\", \"data\")\n",
    "d.load_task1()\n",
    "df = d.train_task1_df\n",
    "df.head()"
   ]
  },
  {
   "cell_type": "code",
   "execution_count": 7,
   "id": "3bc86606",
   "metadata": {},
   "outputs": [],
   "source": [
    "from gensim.models import KeyedVectors\n",
    "# Load vectors directly from the file\n",
    "model = KeyedVectors.load_word2vec_format('GoogleNews-vectors-negative300.bin', binary=True)"
   ]
  },
  {
   "cell_type": "code",
   "execution_count": 8,
   "id": "3ea6ac4a",
   "metadata": {},
   "outputs": [],
   "source": [
    "def vectorize(text):\n",
    "    words = []\n",
    "    doc = nlp(text)\n",
    "    for token in doc:\n",
    "        if not token.is_stop:\n",
    "            words.append(token.text) \n",
    "    vector_list = [model[word] for word in words if word in model.key_to_index]\n",
    "    return np.average( np.array(vector_list), axis = 0)   "
   ]
  },
  {
   "cell_type": "code",
   "execution_count": 9,
   "id": "9f78ac2b",
   "metadata": {},
   "outputs": [
    {
     "name": "stderr",
     "output_type": "stream",
     "text": [
      "C:\\Users\\misla\\anaconda3\\lib\\site-packages\\numpy\\lib\\function_base.py:380: RuntimeWarning: Mean of empty slice.\n",
      "  avg = a.mean(axis)\n"
     ]
    }
   ],
   "source": [
    "df[\"vec\"] = df[\"text\"].apply(vectorize)"
   ]
  },
  {
   "cell_type": "code",
   "execution_count": 10,
   "id": "e398920c",
   "metadata": {},
   "outputs": [
    {
     "data": {
      "text/html": [
       "<div>\n",
       "<style scoped>\n",
       "    .dataframe tbody tr th:only-of-type {\n",
       "        vertical-align: middle;\n",
       "    }\n",
       "\n",
       "    .dataframe tbody tr th {\n",
       "        vertical-align: top;\n",
       "    }\n",
       "\n",
       "    .dataframe thead th {\n",
       "        text-align: right;\n",
       "    }\n",
       "</style>\n",
       "<table border=\"1\" class=\"dataframe\">\n",
       "  <thead>\n",
       "    <tr style=\"text-align: right;\">\n",
       "      <th></th>\n",
       "      <th>ids</th>\n",
       "      <th>text</th>\n",
       "      <th>labels</th>\n",
       "      <th>vec</th>\n",
       "    </tr>\n",
       "  </thead>\n",
       "  <tbody>\n",
       "    <tr>\n",
       "      <th>0</th>\n",
       "      <td>@@23953477</td>\n",
       "      <td>the ones in need of constant medical care are ...</td>\n",
       "      <td>0</td>\n",
       "      <td>[0.03873578, 0.082598515, -0.010548311, 0.1276...</td>\n",
       "    </tr>\n",
       "    <tr>\n",
       "      <th>1</th>\n",
       "      <td>@@4703096</td>\n",
       "      <td>nbc and spanish-language univision both declin...</td>\n",
       "      <td>0</td>\n",
       "      <td>[-0.063673906, -0.04059652, 0.026416015, -0.02...</td>\n",
       "    </tr>\n",
       "    <tr>\n",
       "      <th>2</th>\n",
       "      <td>@@25567226</td>\n",
       "      <td>a second t-home project is being launched in t...</td>\n",
       "      <td>0</td>\n",
       "      <td>[0.033587288, -0.02133493, -0.03506066, 0.0465...</td>\n",
       "    </tr>\n",
       "    <tr>\n",
       "      <th>3</th>\n",
       "      <td>@@1824078</td>\n",
       "      <td>camfed would like to see this trend reversed ....</td>\n",
       "      <td>1</td>\n",
       "      <td>[-0.01903358, 0.031904954, -0.014008742, 0.075...</td>\n",
       "    </tr>\n",
       "    <tr>\n",
       "      <th>4</th>\n",
       "      <td>@@1921089</td>\n",
       "      <td>kagunga village was reported to lack necessary...</td>\n",
       "      <td>0</td>\n",
       "      <td>[-0.039190117, 0.10054848, 0.052714955, -0.057...</td>\n",
       "    </tr>\n",
       "  </tbody>\n",
       "</table>\n",
       "</div>"
      ],
      "text/plain": [
       "          ids                                               text  labels  \\\n",
       "0  @@23953477  the ones in need of constant medical care are ...       0   \n",
       "1   @@4703096  nbc and spanish-language univision both declin...       0   \n",
       "2  @@25567226  a second t-home project is being launched in t...       0   \n",
       "3   @@1824078  camfed would like to see this trend reversed ....       1   \n",
       "4   @@1921089  kagunga village was reported to lack necessary...       0   \n",
       "\n",
       "                                                 vec  \n",
       "0  [0.03873578, 0.082598515, -0.010548311, 0.1276...  \n",
       "1  [-0.063673906, -0.04059652, 0.026416015, -0.02...  \n",
       "2  [0.033587288, -0.02133493, -0.03506066, 0.0465...  \n",
       "3  [-0.01903358, 0.031904954, -0.014008742, 0.075...  \n",
       "4  [-0.039190117, 0.10054848, 0.052714955, -0.057...  "
      ]
     },
     "execution_count": 10,
     "metadata": {},
     "output_type": "execute_result"
    }
   ],
   "source": [
    "df.head()"
   ]
  },
  {
   "cell_type": "code",
   "execution_count": 11,
   "id": "453ef93a",
   "metadata": {},
   "outputs": [
    {
     "name": "stdout",
     "output_type": "stream",
     "text": [
      "10636\n",
      "10635\n"
     ]
    }
   ],
   "source": [
    "print(len(df))\n",
    "df = df.dropna()\n",
    "print(len(df))"
   ]
  },
  {
   "cell_type": "code",
   "execution_count": 121,
   "id": "90721609",
   "metadata": {},
   "outputs": [
    {
     "name": "stdout",
     "output_type": "stream",
     "text": [
      "              precision    recall  f1-score   support\n",
      "\n",
      "           0       0.93      0.97      0.95      1927\n",
      "           1       0.50      0.30      0.38       200\n",
      "\n",
      "    accuracy                           0.91      2127\n",
      "   macro avg       0.72      0.63      0.66      2127\n",
      "weighted avg       0.89      0.91      0.90      2127\n",
      "\n",
      "              precision    recall  f1-score   support\n",
      "\n",
      "           0       0.93      0.97      0.95      1927\n",
      "           1       0.44      0.26      0.32       200\n",
      "\n",
      "    accuracy                           0.90      2127\n",
      "   macro avg       0.68      0.61      0.63      2127\n",
      "weighted avg       0.88      0.90      0.89      2127\n",
      "\n",
      "              precision    recall  f1-score   support\n",
      "\n",
      "           0       0.93      0.97      0.95      1927\n",
      "           1       0.46      0.27      0.34       200\n",
      "\n",
      "    accuracy                           0.90      2127\n",
      "   macro avg       0.69      0.62      0.64      2127\n",
      "weighted avg       0.88      0.90      0.89      2127\n",
      "\n",
      "              precision    recall  f1-score   support\n",
      "\n",
      "           0       0.93      0.97      0.95      1927\n",
      "           1       0.54      0.33      0.41       200\n",
      "\n",
      "    accuracy                           0.91      2127\n",
      "   macro avg       0.74      0.65      0.68      2127\n",
      "weighted avg       0.90      0.91      0.90      2127\n",
      "\n",
      "              precision    recall  f1-score   support\n",
      "\n",
      "           0       0.93      0.97      0.95      1927\n",
      "           1       0.45      0.28      0.34       200\n",
      "\n",
      "    accuracy                           0.90      2127\n",
      "   macro avg       0.69      0.62      0.64      2127\n",
      "weighted avg       0.88      0.90      0.89      2127\n",
      "\n",
      "              precision    recall  f1-score   support\n",
      "\n",
      "           0       0.93      0.97      0.95      1927\n",
      "           1       0.52      0.29      0.38       200\n",
      "\n",
      "    accuracy                           0.91      2127\n",
      "   macro avg       0.72      0.63      0.66      2127\n",
      "weighted avg       0.89      0.91      0.90      2127\n",
      "\n",
      "              precision    recall  f1-score   support\n",
      "\n",
      "           0       0.93      0.96      0.95      1927\n",
      "           1       0.45      0.29      0.36       200\n",
      "\n",
      "    accuracy                           0.90      2127\n",
      "   macro avg       0.69      0.63      0.65      2127\n",
      "weighted avg       0.88      0.90      0.89      2127\n",
      "\n",
      "              precision    recall  f1-score   support\n",
      "\n",
      "           0       0.93      0.97      0.95      1927\n",
      "           1       0.48      0.29      0.37       200\n",
      "\n",
      "    accuracy                           0.90      2127\n",
      "   macro avg       0.70      0.63      0.66      2127\n",
      "weighted avg       0.89      0.90      0.89      2127\n",
      "\n",
      "              precision    recall  f1-score   support\n",
      "\n",
      "           0       0.93      0.96      0.95      1927\n",
      "           1       0.48      0.31      0.38       200\n",
      "\n",
      "    accuracy                           0.90      2127\n",
      "   macro avg       0.70      0.64      0.66      2127\n",
      "weighted avg       0.89      0.90      0.89      2127\n",
      "\n",
      "              precision    recall  f1-score   support\n",
      "\n",
      "           0       0.93      0.97      0.95      1927\n",
      "           1       0.46      0.27      0.34       200\n",
      "\n",
      "    accuracy                           0.90      2127\n",
      "   macro avg       0.69      0.62      0.64      2127\n",
      "weighted avg       0.88      0.90      0.89      2127\n",
      "\n"
     ]
    }
   ],
   "source": [
    "sss = StratifiedShuffleSplit(n_splits=10, test_size=0.2, random_state=111)\n",
    "\n",
    "for train_index, test_index in sss.split(df['vec'], df['labels']):\n",
    "    X_train, X_test = df.vec.iloc[train_index], df.vec.iloc[test_index]\n",
    "    y_train, y_test = df.labels.iloc[train_index], df.labels.iloc[test_index]\n",
    "    \n",
    "    X_train = np.stack([a.reshape(300,) for a in X_train.values], axis = 0)\n",
    "    X_test = np.stack([a.reshape(300,) for a in X_test.values], axis = 0)\n",
    "    \n",
    "    SVM = svm.SVC(C=10.0, kernel='poly',gamma='scale')\n",
    "    SVM.fit(X_train, y_train)\n",
    "\n",
    "    predictions_SVM = SVM.predict(X_test)\n",
    "    print(classification_report(y_test, predictions_SVM))"
   ]
  },
  {
   "cell_type": "code",
   "execution_count": null,
   "id": "38fea18d",
   "metadata": {},
   "outputs": [],
   "source": []
  }
 ],
 "metadata": {
  "kernelspec": {
   "display_name": "Python 3",
   "language": "python",
   "name": "python3"
  },
  "language_info": {
   "codemirror_mode": {
    "name": "ipython",
    "version": 3
   },
   "file_extension": ".py",
   "mimetype": "text/x-python",
   "name": "python",
   "nbconvert_exporter": "python",
   "pygments_lexer": "ipython3",
   "version": "3.8.8"
  }
 },
 "nbformat": 4,
 "nbformat_minor": 5
}
