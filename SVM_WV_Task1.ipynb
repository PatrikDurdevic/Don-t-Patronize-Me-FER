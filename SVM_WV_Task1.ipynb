{
  "nbformat": 4,
  "nbformat_minor": 0,
  "metadata": {
    "colab": {
      "name": "SVM-WV-Task1.ipynb",
      "provenance": [],
      "authorship_tag": "ABX9TyO19RsUyDDx2ufqGQu8MBnh",
      "include_colab_link": true
    },
    "kernelspec": {
      "name": "python3",
      "display_name": "Python 3"
    },
    "language_info": {
      "name": "python"
    }
  },
  "cells": [
    {
      "cell_type": "markdown",
      "metadata": {
        "id": "view-in-github",
        "colab_type": "text"
      },
      "source": [
        "<a href=\"https://colab.research.google.com/github/PatrikDurdevic/Don-t-Patronize-Me-FER/blob/main/SVM_WV_Task1.ipynb\" target=\"_parent\"><img src=\"https://colab.research.google.com/assets/colab-badge.svg\" alt=\"Open In Colab\"/></a>"
      ]
    },
    {
      "cell_type": "code",
      "metadata": {
        "colab": {
          "base_uri": "https://localhost:8080/"
        },
        "id": "7LoHCT_-yiUo",
        "outputId": "0c1082c7-4ca2-443a-ae20-6019ca59c136"
      },
      "source": [
        "from urllib import request\n",
        "module_url = f\"https://raw.githubusercontent.com/Perez-AlmendrosC/dontpatronizeme/master/semeval-2022/dont_patronize_me.py\"\n",
        "module_name = module_url.split('/')[-1]\n",
        "print(f'Fetching {module_url}')\n",
        "#with open(\"file_1.txt\") as f1, open(\"file_2.txt\") as f2\n",
        "with request.urlopen(module_url) as f, open(module_name,'w') as outf:\n",
        "  a = f.read()\n",
        "  outf.write(a.decode('utf-8'))"
      ],
      "execution_count": 3,
      "outputs": [
        {
          "output_type": "stream",
          "name": "stdout",
          "text": [
            "Fetching https://raw.githubusercontent.com/Perez-AlmendrosC/dontpatronizeme/master/semeval-2022/dont_patronize_me.py\n"
          ]
        }
      ]
    },
    {
      "cell_type": "code",
      "metadata": {
        "id": "BO0ClPT3xvuc"
      },
      "source": [
        "import pandas as pd\n",
        "import numpy as np\n",
        "import spacy\n",
        "from dont_patronize_me import DontPatronizeMe"
      ],
      "execution_count": 1,
      "outputs": []
    },
    {
      "cell_type": "code",
      "metadata": {
        "id": "C1bzVVz4ysia"
      },
      "source": [
        "dpm = DontPatronizeMe('.', 'dontpatronizeme_pcl.tsv')\n",
        "dpm.load_task1()"
      ],
      "execution_count": 2,
      "outputs": []
    },
    {
      "cell_type": "code",
      "metadata": {
        "colab": {
          "base_uri": "https://localhost:8080/"
        },
        "id": "OPu0qzjfzhxy",
        "outputId": "ddea83a1-57b7-4f5e-ee7d-b7a081f6a427"
      },
      "source": [
        "EMBEDDING_FILE = '/root/input/GoogleNews-vectors-negative300.bin.gz'\n",
        "!wget -P /root/input/ -c \"https://s3.amazonaws.com/dl4j-distribution/GoogleNews-vectors-negative300.bin.gz\"\n",
        "!python -m spacy download en_core_web_lg"
      ],
      "execution_count": 13,
      "outputs": [
        {
          "output_type": "stream",
          "name": "stdout",
          "text": [
            "--2021-11-07 14:31:00--  https://s3.amazonaws.com/dl4j-distribution/GoogleNews-vectors-negative300.bin.gz\n",
            "Resolving s3.amazonaws.com (s3.amazonaws.com)... 52.217.196.48\n",
            "Connecting to s3.amazonaws.com (s3.amazonaws.com)|52.217.196.48|:443... connected.\n",
            "HTTP request sent, awaiting response... 200 OK\n",
            "Length: 1647046227 (1.5G) [application/x-gzip]\n",
            "Saving to: ‘/root/input/GoogleNews-vectors-negative300.bin.gz’\n",
            "\n",
            "GoogleNews-vectors- 100%[===================>]   1.53G  41.0MB/s    in 37s     \n",
            "\n",
            "2021-11-07 14:31:37 (42.5 MB/s) - ‘/root/input/GoogleNews-vectors-negative300.bin.gz’ saved [1647046227/1647046227]\n",
            "\n"
          ]
        }
      ]
    },
    {
      "cell_type": "code",
      "metadata": {
        "id": "4ql6hAEgz0vi"
      },
      "source": [
        "from gensim.models import KeyedVectors\n",
        "model = KeyedVectors.load_word2vec_format('../root/input/GoogleNews-vectors-negative300.bin.gz', binary=True)"
      ],
      "execution_count": 3,
      "outputs": []
    },
    {
      "cell_type": "code",
      "metadata": {
        "id": "5skqZO5L6tFQ"
      },
      "source": [
        "import nltk\n",
        "from nltk.corpus import stopwords"
      ],
      "execution_count": 11,
      "outputs": []
    },
    {
      "cell_type": "code",
      "metadata": {
        "id": "rPZXNhK2Ep5l"
      },
      "source": [
        "def preprocess(sentence):\n",
        "  nltk.word_tokenize(sentence)\n",
        "  sentence = [word for word in sentence if word not in stopwords.words('english')]\n",
        "  sentence = [model.get_vector(w) for w in sentence if w in model.vocab]\n",
        "  return np.stack(sentence, axis=0).mean(0).reshape(300,) if len(sentence) > 0 else np.zeros(300,)"
      ],
      "execution_count": 25,
      "outputs": []
    },
    {
      "cell_type": "code",
      "metadata": {
        "colab": {
          "base_uri": "https://localhost:8080/"
        },
        "id": "vrTJ6BtDzUDj",
        "outputId": "aedbd532-b054-4692-fc13-bef8756fd84c"
      },
      "source": [
        "from tqdm import tqdm\n",
        "tqdm.pandas()\n",
        "dpm.train_task1_df[\"text_vectorized_2\"] = dpm.train_task1_df[\"text\"].progress_apply(lambda x: preprocess(x))"
      ],
      "execution_count": 28,
      "outputs": [
        {
          "output_type": "stream",
          "name": "stderr",
          "text": [
            "100%|██████████| 10469/10469 [06:22<00:00, 27.36it/s]\n"
          ]
        }
      ]
    },
    {
      "cell_type": "code",
      "metadata": {
        "colab": {
          "base_uri": "https://localhost:8080/"
        },
        "id": "7W4oNfNj3bL9",
        "outputId": "5ee79c78-627f-4f0e-aab9-d9c5820948c9"
      },
      "source": [
        "from sklearn import svm\n",
        "from sklearn.model_selection import StratifiedShuffleSplit\n",
        "from sklearn.metrics import classification_report\n",
        "sss = StratifiedShuffleSplit(n_splits=1, test_size=0.2, random_state=42)\n",
        "\n",
        "SVM = svm.SVC(C=10.0, kernel='poly', gamma='scale')\n",
        "for train_index, test_index in sss.split(dpm.train_task1_df[\"text_vectorized_2\"], dpm.train_task1_df[\"label\"]):\n",
        "  X_train, X_test = np.stack(dpm.train_task1_df[\"text_vectorized_2\"].iloc[train_index], axis=0), np.stack(dpm.train_task1_df[\"text_vectorized_2\"].iloc[test_index], axis=0)\n",
        "  y_train, y_test = dpm.train_task1_df[\"label\"].iloc[train_index], dpm.train_task1_df[\"label\"].iloc[test_index]\n",
        "\n",
        "  SVM.fit(X_train, y_train)\n",
        "\n",
        "  predictions_SVM = SVM.predict(X_test)\n",
        "  print(classification_report(y_test, predictions_SVM))"
      ],
      "execution_count": 29,
      "outputs": [
        {
          "output_type": "stream",
          "name": "stdout",
          "text": [
            "              precision    recall  f1-score   support\n",
            "\n",
            "           0       0.90      1.00      0.95      1895\n",
            "           1       0.00      0.00      0.00       199\n",
            "\n",
            "    accuracy                           0.90      2094\n",
            "   macro avg       0.45      0.50      0.48      2094\n",
            "weighted avg       0.82      0.90      0.86      2094\n",
            "\n"
          ]
        },
        {
          "output_type": "stream",
          "name": "stderr",
          "text": [
            "/usr/local/lib/python3.7/dist-packages/sklearn/metrics/_classification.py:1308: UndefinedMetricWarning: Precision and F-score are ill-defined and being set to 0.0 in labels with no predicted samples. Use `zero_division` parameter to control this behavior.\n",
            "  _warn_prf(average, modifier, msg_start, len(result))\n",
            "/usr/local/lib/python3.7/dist-packages/sklearn/metrics/_classification.py:1308: UndefinedMetricWarning: Precision and F-score are ill-defined and being set to 0.0 in labels with no predicted samples. Use `zero_division` parameter to control this behavior.\n",
            "  _warn_prf(average, modifier, msg_start, len(result))\n",
            "/usr/local/lib/python3.7/dist-packages/sklearn/metrics/_classification.py:1308: UndefinedMetricWarning: Precision and F-score are ill-defined and being set to 0.0 in labels with no predicted samples. Use `zero_division` parameter to control this behavior.\n",
            "  _warn_prf(average, modifier, msg_start, len(result))\n"
          ]
        }
      ]
    },
    {
      "cell_type": "code",
      "metadata": {
        "colab": {
          "base_uri": "https://localhost:8080/"
        },
        "id": "SXUlw1uZ9BPH",
        "outputId": "55b0f630-0c4d-403c-fcc8-12a7913a2eb5"
      },
      "source": [
        "sentence = input()"
      ],
      "execution_count": 40,
      "outputs": [
        {
          "name": "stdout",
          "output_type": "stream",
          "text": [
            "we 're living in times of absolute insanity , as i 'm pretty sure most people are aware . for a while , waking up every day to check the news seemed to carry with it the same feeling of panic and dread that action heroes probably face when they 're trying to decide whether to cut the blue or green wire on a ticking bomb -- except the bomb 's instructions long ago burned in a fire and imminent catastrophe seems the likeliest outcome . it 's hard to stay that on-edge for that long , though , so it 's natural for people to become inured to this constant chaos , to slump into a malaise of hopelessness and pessimism .\n"
          ]
        }
      ]
    },
    {
      "cell_type": "code",
      "metadata": {
        "colab": {
          "base_uri": "https://localhost:8080/"
        },
        "id": "ZazWR7FpDsYc",
        "outputId": "50863370-8c38-4f21-ed27-dfc6b511e2df"
      },
      "source": [
        "sentence_preprocessed = preprocess(sentence)\n",
        "print(SVM.predict(sentence_preprocessed.reshape(1, -1))[0])"
      ],
      "execution_count": 47,
      "outputs": [
        {
          "output_type": "stream",
          "name": "stdout",
          "text": [
            "0\n"
          ]
        }
      ]
    },
    {
      "cell_type": "code",
      "metadata": {
        "id": "MerTKSISG0PH"
      },
      "source": [
        ""
      ],
      "execution_count": null,
      "outputs": []
    }
  ]
}